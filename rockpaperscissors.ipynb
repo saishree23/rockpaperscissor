{
  "cells": [
    {
      "cell_type": "code",
      "execution_count": 1,
      "metadata": {
        "id": "-Bo9SwKhniLS"
      },
      "outputs": [],
      "source": [
        "import random\n"
      ]
    },
    {
      "cell_type": "code",
      "execution_count": 2,
      "metadata": {
        "colab": {
          "base_uri": "https://localhost:8080/"
        },
        "id": "CnRQcNrInrcT",
        "outputId": "db0291f1-b32e-4715-a2db-544cf0bdf366"
      },
      "outputs": [
        {
          "output_type": "stream",
          "name": "stdout",
          "text": [
            "Let's play Rock, Paper, Scissors!\n",
            "Enter your choice (rock, paper, scissors): rock\n",
            "Congratulations! You win! rock beats scissors.\n",
            "Do you want to play again? (yes/no): yes\n",
            "Let's play Rock, Paper, Scissors!\n",
            "Enter your choice (rock, paper, scissors): paper\n",
            "Congratulations! You win! paper beats rock.\n",
            "Do you want to play again? (yes/no): yes\n",
            "Let's play Rock, Paper, Scissors!\n",
            "Enter your choice (rock, paper, scissors): scissors\n",
            "Sorry! You lose! rock beats scissors.\n",
            "Do you want to play again? (yes/no): no\n",
            "Thanks for playing!\n"
          ]
        }
      ],
      "source": [
        "def play_game():\n",
        "    print(\"Let's play Rock, Paper, Scissors!\")\n",
        "    choices = ['rock', 'paper', 'scissors']\n",
        "\n",
        "    # Get user's choice\n",
        "    user_choice = input(\"Enter your choice (rock, paper, scissors): \").lower()\n",
        "\n",
        "    # Validate user's choice\n",
        "    if user_choice not in choices:\n",
        "        print(\"Invalid choice! Please choose from 'rock', 'paper', or 'scissors'.\")\n",
        "        return\n",
        "\n",
        "    # Get computer's choice\n",
        "    computer_choice = random.choice(choices)\n",
        "\n",
        "    # Determine the winner\n",
        "    if user_choice == computer_choice:\n",
        "        print(f\"It's a tie! Both chose {user_choice}.\")\n",
        "    elif (user_choice == 'rock' and computer_choice == 'scissors') or \\\n",
        "         (user_choice == 'paper' and computer_choice == 'rock') or \\\n",
        "         (user_choice == 'scissors' and computer_choice == 'paper'):\n",
        "        print(f\"Congratulations! You win! {user_choice} beats {computer_choice}.\")\n",
        "    else:\n",
        "        print(f\"Sorry! You lose! {computer_choice} beats {user_choice}.\")\n",
        "\n",
        "# Main loop to play multiple rounds\n",
        "while True:\n",
        "    play_game()\n",
        "    play_again = input(\"Do you want to play again? (yes/no): \").lower()\n",
        "    if play_again != 'yes':\n",
        "        print(\"Thanks for playing!\")\n",
        "        break\n"
      ]
    }
  ],
  "metadata": {
    "colab": {
      "provenance": []
    },
    "kernelspec": {
      "display_name": "Python 3",
      "name": "python3"
    },
    "language_info": {
      "name": "python"
    }
  },
  "nbformat": 4,
  "nbformat_minor": 0
}